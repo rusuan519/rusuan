{
  "nbformat": 4,
  "nbformat_minor": 0,
  "metadata": {
    "colab": {
      "provenance": []
    },
    "kernelspec": {
      "name": "python3",
      "display_name": "Python 3"
    },
    "language_info": {
      "name": "python"
    }
  },
  "cells": [
    {
      "cell_type": "code",
      "execution_count": 2,
      "metadata": {
        "id": "cftLs29XG0ez",
        "colab": {
          "base_uri": "https://localhost:8080/"
        },
        "outputId": "7cecdcee-c3c3-4128-fc0c-03210566e73c"
      },
      "outputs": [
        {
          "output_type": "stream",
          "name": "stdout",
          "text": [
            "\n",
            "您想查詢什麼？(藥方名稱/出典/處方/效能/適應症/退出查詢)：藥方名稱\n",
            "蠲痹湯\n",
            "\n",
            "您想查詢什麼？(藥方名稱/出典/處方/效能/適應症/退出查詢)：出典\n",
            "蠲痹湯的出典為:中國醫學大辭典\n",
            "\n",
            "您想查詢什麼？(藥方名稱/出典/處方/效能/適應症/退出查詢)：處方\n",
            "蠲痹湯的處方為:\n",
            "當歸：4公克\n",
            "赤芍：4公克\n",
            "黃耆：4公克\n",
            "薑黃：4公克\n",
            "羌活：4公克\n",
            "生薑：3公克\n",
            "大棗：2公克\n",
            "防風：4公克\n",
            "炙甘草：1.5公克\n",
            "總克數為：30.5公克\n",
            "\n",
            "您想查詢什麼？(藥方名稱/出典/處方/效能/適應症/退出查詢)：效能\n",
            "蠲痹湯的效能是:益氣和營，祛風除濕\n",
            "\n",
            "您想查詢什麼？(藥方名稱/出典/處方/效能/適應症/退出查詢)：適應症\n",
            "蠲痹湯的適應症有:\n",
            "風痹\n",
            "身體煩疼\n",
            "項背拘急\n",
            "肩肘痛重\n",
            "舉動艱難\n",
            "手足冷痹\n",
            "\n",
            "您想查詢什麼？(藥方名稱/出典/處方/效能/適應症/退出查詢)：退出查詢\n",
            "感謝使用，再見！\n"
          ]
        }
      ],
      "source": [
        "# 定義蠲痹湯的資料\n",
        "prescription = {\n",
        "    '名稱': '蠲痹湯',\n",
        "    '出典': '中國醫學大辭典',\n",
        "    '處方': {\n",
        "        '當歸': 4,  # 公克\n",
        "        '赤芍': 4,\n",
        "        '黃耆': 4,\n",
        "        '薑黃': 4,\n",
        "        '羌活': 4,\n",
        "        '生薑': 3,\n",
        "        '大棗': 2,\n",
        "        '防風': 4,\n",
        "        '炙甘草': 1.5\n",
        "    },\n",
        "    '效能': '益氣和營，祛風除濕',\n",
        "    '適應症': ['風痹', '身體煩疼', '項背拘急', '肩肘痛重', '舉動艱難', '手足冷痹']\n",
        "}\n",
        "\n",
        "# 使用 while 迴圈提供查詢服務\n",
        "while True:\n",
        "    query = input(\"\\n您想查詢什麼？(藥方名稱/出典/處方/效能/適應症/退出查詢)：\")\n",
        "\n",
        "    if query == \"藥方名稱\":\n",
        "        print(f\"{prescription['名稱']}\")\n",
        "    elif query == \"出典\":\n",
        "        print(f\"{prescription['名稱']}的出典為:{prescription['出典']}\")\n",
        "    elif query == \"適應症\":\n",
        "        print(f\"{prescription['名稱']}的適應症有:\")\n",
        "        for symptom in prescription['適應症']:\n",
        "            print(symptom)\n",
        "    elif query == \"處方\":\n",
        "        total_weight = sum(prescription['處方'].values())\n",
        "        print(f\"{prescription['名稱']}的處方為:\")\n",
        "        for medicine, weight in prescription['處方'].items():\n",
        "            print(f\"{medicine}：{weight}公克\")\n",
        "        print(f\"總克數為：{total_weight}公克\")\n",
        "    elif query == \"效能\":\n",
        "        print(f\"{prescription['名稱']}的效能是:{prescription['效能']}\")\n",
        "    elif query == \"退出查詢\":\n",
        "        print(\"感謝使用，再見！\")\n",
        "        break\n",
        "    else:\n",
        "        print(\"輸入無效，請重新輸入。\")"
      ]
    }
  ]
}