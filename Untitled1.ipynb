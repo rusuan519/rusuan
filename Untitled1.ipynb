{
  "nbformat": 4,
  "nbformat_minor": 0,
  "metadata": {
    "colab": {
      "provenance": []
    },
    "kernelspec": {
      "name": "python3",
      "display_name": "Python 3"
    },
    "language_info": {
      "name": "python"
    }
  },
  "cells": [
    {
      "cell_type": "code",
      "execution_count": 4,
      "metadata": {
        "colab": {
          "base_uri": "https://localhost:8080/"
        },
        "id": "DZo-inOdE87C",
        "outputId": "3e0ef657-60dd-4db8-f205-a61af43ead28"
      },
      "outputs": [
        {
          "output_type": "stream",
          "name": "stdout",
          "text": [
            "輸入範圍5\n",
            "1 x 1 =1\n",
            "1 x 2 =2\n",
            "1 x 3 =3\n",
            "1 x 4 =4\n",
            "1 x 5 =5\n",
            "2 x 1 =2\n",
            "2 x 2 =4\n",
            "2 x 3 =6\n",
            "2 x 4 =8\n",
            "2 x 5 =10\n",
            "3 x 1 =3\n",
            "3 x 2 =6\n",
            "3 x 3 =9\n",
            "3 x 4 =12\n",
            "3 x 5 =15\n",
            "4 x 1 =4\n",
            "4 x 2 =8\n",
            "4 x 3 =12\n",
            "4 x 4 =16\n",
            "4 x 5 =20\n",
            "5 x 1 =5\n",
            "5 x 2 =10\n",
            "5 x 3 =15\n",
            "5 x 4 =20\n",
            "5 x 5 =25\n"
          ]
        }
      ],
      "source": [
        "number = int(input(\"輸入範圍\"))\n",
        "for i in range(1, number + 1):\n",
        "  for j in range(1, number +1):\n",
        "    print(f\"{i} x {j} ={i * j}\")"
      ]
    },
    {
      "cell_type": "code",
      "source": [
        "import random\n",
        "# 生成一個隨機數字，這是要猜的數字\n",
        "target_number =random.randint(1, 100)\n",
        "\n",
        "print(\"歡迎參加猜數字遊戲!\")\n",
        "ans = 0\n",
        "while ans == 0:\n",
        "  guess = int(input(\"你的猜測是?\"))\n",
        "  if guess > target_number:\n",
        "    print(\"猜高拉\")\n",
        "  elif guess < target_number:\n",
        "    print (\"猜低拉\")\n",
        "  else:\n",
        "    print(f\"guess right! the answer is {target_number}\")\n",
        "    ans = 1\n",
        "  print(\"遊戲結束。\")\n"
      ],
      "metadata": {
        "colab": {
          "base_uri": "https://localhost:8080/"
        },
        "id": "mWcn5_DbGadS",
        "outputId": "2cc4bf9b-cb57-408b-9b57-a48942f375a0"
      },
      "execution_count": null,
      "outputs": [
        {
          "output_type": "stream",
          "name": "stdout",
          "text": [
            "歡迎參加猜數字遊戲!\n",
            "你的猜測是?30\n",
            "猜低拉\n",
            "遊戲結束。\n",
            "你的猜測是?52\n",
            "猜低拉\n",
            "遊戲結束。\n",
            "你的猜測是?55\n",
            "猜低拉\n",
            "遊戲結束。\n",
            "你的猜測是?66\n",
            "猜低拉\n",
            "遊戲結束。\n",
            "你的猜測是?33\n",
            "猜低拉\n",
            "遊戲結束。\n"
          ]
        }
      ]
    }
  ]
}